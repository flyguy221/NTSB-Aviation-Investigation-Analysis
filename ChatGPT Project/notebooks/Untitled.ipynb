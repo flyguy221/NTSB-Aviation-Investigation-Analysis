{
 "cells": [
  {
   "cell_type": "code",
   "execution_count": 33,
   "id": "647c0fd9",
   "metadata": {},
   "outputs": [],
   "source": [
    "import json\n",
    "from gensim import corpora, models\n",
    "import re\n",
    "from gensim.parsing.preprocessing import STOPWORDS\n",
    "from nltk.stem import WordNetLemmatizer\n",
    "from nltk.tokenize import word_tokenize\n",
    "from nltk.corpus import stopwords\n",
    "import nltk\n",
    "\n",
    "pathway = \"/Users/jeremyfeagan/Library/Mobile Documents/com~apple~CloudDocs/MyGitRepo/ChatGPT Project/conversations.json\"\n",
    "\n",
    "# Load the JSON data from the file\n",
    "with open(pathway, 'r', encoding='utf-8') as file:\n",
    "    data = json.load(file)\n"
   ]
  },
  {
   "cell_type": "code",
   "execution_count": 34,
   "id": "b25af40e",
   "metadata": {},
   "outputs": [
    {
     "data": {
      "text/html": [
       "<div>\n",
       "<style scoped>\n",
       "    .dataframe tbody tr th:only-of-type {\n",
       "        vertical-align: middle;\n",
       "    }\n",
       "\n",
       "    .dataframe tbody tr th {\n",
       "        vertical-align: top;\n",
       "    }\n",
       "\n",
       "    .dataframe thead th {\n",
       "        text-align: right;\n",
       "    }\n",
       "</style>\n",
       "<table border=\"1\" class=\"dataframe\">\n",
       "  <thead>\n",
       "    <tr style=\"text-align: right;\">\n",
       "      <th></th>\n",
       "      <th>title</th>\n",
       "      <th>create_time</th>\n",
       "      <th>update_time</th>\n",
       "      <th>mapping</th>\n",
       "      <th>moderation_results</th>\n",
       "      <th>current_node</th>\n",
       "      <th>plugin_ids</th>\n",
       "      <th>conversation_id</th>\n",
       "      <th>conversation_template_id</th>\n",
       "      <th>gizmo_id</th>\n",
       "      <th>is_archived</th>\n",
       "      <th>safe_urls</th>\n",
       "      <th>id</th>\n",
       "    </tr>\n",
       "  </thead>\n",
       "  <tbody>\n",
       "    <tr>\n",
       "      <th>0</th>\n",
       "      <td>Expense Tracker Categories</td>\n",
       "      <td>1.706800e+09</td>\n",
       "      <td>1.706803e+09</td>\n",
       "      <td>{'b737d6a3-4d05-4387-aa79-ca7258359e62': {'id'...</td>\n",
       "      <td>[]</td>\n",
       "      <td>01a048b6-5bb3-4b42-a369-884eb787703f</td>\n",
       "      <td>None</td>\n",
       "      <td>56d809f5-6899-431c-8ed9-1d56b5550285</td>\n",
       "      <td>None</td>\n",
       "      <td>None</td>\n",
       "      <td>False</td>\n",
       "      <td>[]</td>\n",
       "      <td>56d809f5-6899-431c-8ed9-1d56b5550285</td>\n",
       "    </tr>\n",
       "    <tr>\n",
       "      <th>1</th>\n",
       "      <td>Self-Awareness &amp; Motivation Improvement</td>\n",
       "      <td>1.706793e+09</td>\n",
       "      <td>1.706798e+09</td>\n",
       "      <td>{'f742e920-6902-4067-a4b6-ffc7609b0a2e': {'id'...</td>\n",
       "      <td>[]</td>\n",
       "      <td>db8ac04e-0b0b-42df-80a1-5634fe456ad7</td>\n",
       "      <td>None</td>\n",
       "      <td>412c1cd6-8a0d-4f47-b69b-d1f60c9ba7c9</td>\n",
       "      <td>None</td>\n",
       "      <td>None</td>\n",
       "      <td>False</td>\n",
       "      <td>[]</td>\n",
       "      <td>412c1cd6-8a0d-4f47-b69b-d1f60c9ba7c9</td>\n",
       "    </tr>\n",
       "    <tr>\n",
       "      <th>2</th>\n",
       "      <td>Build AI Expert with Data</td>\n",
       "      <td>1.706791e+09</td>\n",
       "      <td>1.706791e+09</td>\n",
       "      <td>{'fef8a58e-3a6b-4831-8082-60ce6729ece0': {'id'...</td>\n",
       "      <td>[]</td>\n",
       "      <td>37291ff4-1f90-451b-bbcf-2a2fcc8d7510</td>\n",
       "      <td>None</td>\n",
       "      <td>34c5c0a9-dd62-4ee9-b30f-6e641b6ddf9e</td>\n",
       "      <td>None</td>\n",
       "      <td>None</td>\n",
       "      <td>False</td>\n",
       "      <td>[]</td>\n",
       "      <td>34c5c0a9-dd62-4ee9-b30f-6e641b6ddf9e</td>\n",
       "    </tr>\n",
       "    <tr>\n",
       "      <th>3</th>\n",
       "      <td>Root Causes of Low Vaccination</td>\n",
       "      <td>1.706790e+09</td>\n",
       "      <td>1.706790e+09</td>\n",
       "      <td>{'876d6e51-ec68-4ae3-87fe-7d8005b3f72a': {'id'...</td>\n",
       "      <td>[]</td>\n",
       "      <td>e3001342-e692-4531-8ce2-5af61d84d579</td>\n",
       "      <td>None</td>\n",
       "      <td>870c1a6a-e0fa-4e76-bba6-4d1d56b38cef</td>\n",
       "      <td>None</td>\n",
       "      <td>None</td>\n",
       "      <td>False</td>\n",
       "      <td>[]</td>\n",
       "      <td>870c1a6a-e0fa-4e76-bba6-4d1d56b38cef</td>\n",
       "    </tr>\n",
       "    <tr>\n",
       "      <th>4</th>\n",
       "      <td>Hidden Figures Movie Discussion</td>\n",
       "      <td>1.706752e+09</td>\n",
       "      <td>1.706752e+09</td>\n",
       "      <td>{'6afa7b68-d874-43b5-8ff7-8b70c8540f4e': {'id'...</td>\n",
       "      <td>[]</td>\n",
       "      <td>8f53b188-6203-46f9-9ea0-0c4cb7c2feeb</td>\n",
       "      <td>None</td>\n",
       "      <td>ed3bc077-13f5-4d35-85e2-f3b72059ce07</td>\n",
       "      <td>None</td>\n",
       "      <td>None</td>\n",
       "      <td>False</td>\n",
       "      <td>[]</td>\n",
       "      <td>ed3bc077-13f5-4d35-85e2-f3b72059ce07</td>\n",
       "    </tr>\n",
       "  </tbody>\n",
       "</table>\n",
       "</div>"
      ],
      "text/plain": [
       "                                     title   create_time   update_time  \\\n",
       "0               Expense Tracker Categories  1.706800e+09  1.706803e+09   \n",
       "1  Self-Awareness & Motivation Improvement  1.706793e+09  1.706798e+09   \n",
       "2                Build AI Expert with Data  1.706791e+09  1.706791e+09   \n",
       "3           Root Causes of Low Vaccination  1.706790e+09  1.706790e+09   \n",
       "4          Hidden Figures Movie Discussion  1.706752e+09  1.706752e+09   \n",
       "\n",
       "                                             mapping moderation_results  \\\n",
       "0  {'b737d6a3-4d05-4387-aa79-ca7258359e62': {'id'...                 []   \n",
       "1  {'f742e920-6902-4067-a4b6-ffc7609b0a2e': {'id'...                 []   \n",
       "2  {'fef8a58e-3a6b-4831-8082-60ce6729ece0': {'id'...                 []   \n",
       "3  {'876d6e51-ec68-4ae3-87fe-7d8005b3f72a': {'id'...                 []   \n",
       "4  {'6afa7b68-d874-43b5-8ff7-8b70c8540f4e': {'id'...                 []   \n",
       "\n",
       "                           current_node plugin_ids  \\\n",
       "0  01a048b6-5bb3-4b42-a369-884eb787703f       None   \n",
       "1  db8ac04e-0b0b-42df-80a1-5634fe456ad7       None   \n",
       "2  37291ff4-1f90-451b-bbcf-2a2fcc8d7510       None   \n",
       "3  e3001342-e692-4531-8ce2-5af61d84d579       None   \n",
       "4  8f53b188-6203-46f9-9ea0-0c4cb7c2feeb       None   \n",
       "\n",
       "                        conversation_id conversation_template_id gizmo_id  \\\n",
       "0  56d809f5-6899-431c-8ed9-1d56b5550285                     None     None   \n",
       "1  412c1cd6-8a0d-4f47-b69b-d1f60c9ba7c9                     None     None   \n",
       "2  34c5c0a9-dd62-4ee9-b30f-6e641b6ddf9e                     None     None   \n",
       "3  870c1a6a-e0fa-4e76-bba6-4d1d56b38cef                     None     None   \n",
       "4  ed3bc077-13f5-4d35-85e2-f3b72059ce07                     None     None   \n",
       "\n",
       "   is_archived safe_urls                                    id  \n",
       "0        False        []  56d809f5-6899-431c-8ed9-1d56b5550285  \n",
       "1        False        []  412c1cd6-8a0d-4f47-b69b-d1f60c9ba7c9  \n",
       "2        False        []  34c5c0a9-dd62-4ee9-b30f-6e641b6ddf9e  \n",
       "3        False        []  870c1a6a-e0fa-4e76-bba6-4d1d56b38cef  \n",
       "4        False        []  ed3bc077-13f5-4d35-85e2-f3b72059ce07  "
      ]
     },
     "execution_count": 34,
     "metadata": {},
     "output_type": "execute_result"
    }
   ],
   "source": [
    "import pandas as pd\n",
    "\n",
    "# Create a DataFrame from the JSON data\n",
    "df = pd.DataFrame(data)\n",
    "\n",
    "# Display the first few rows of the DataFrame\n",
    "df.head()\n"
   ]
  },
  {
   "cell_type": "code",
   "execution_count": 35,
   "id": "96cdead9",
   "metadata": {},
   "outputs": [
    {
     "name": "stderr",
     "output_type": "stream",
     "text": [
      "[nltk_data] Downloading package punkt to\n",
      "[nltk_data]     /Users/jeremyfeagan/nltk_data...\n",
      "[nltk_data]   Unzipping tokenizers/punkt.zip.\n",
      "[nltk_data] Downloading package wordnet to\n",
      "[nltk_data]     /Users/jeremyfeagan/nltk_data...\n",
      "[nltk_data] Downloading package stopwords to\n",
      "[nltk_data]     /Users/jeremyfeagan/nltk_data...\n",
      "[nltk_data]   Unzipping corpora/stopwords.zip.\n"
     ]
    }
   ],
   "source": [
    "# Ensure necessary NLTK data is downloaded\n",
    "nltk.download('punkt')\n",
    "nltk.download('wordnet')\n",
    "nltk.download('stopwords')\n",
    "\n",
    "# Extend STOPWORDS with common programming and mathematical terms if necessary\n",
    "extended_stopwords = STOPWORDS.union(set(['=', '+', '-', '*', '/', '(', ')', '#', '->', 'int', 'float', 'print', 'def']))\n",
    "\n",
    "# Initialize a lemmatizer\n",
    "lemmatizer = WordNetLemmatizer()\n",
    "\n",
    "def preprocess_text(text):\n",
    "    # Lowercase the text\n",
    "    text = text.lower()\n",
    "    # Remove URLs, numbers, and special characters\n",
    "    text = re.sub(r'http\\S+|www\\S+|https\\S+', '', text, flags=re.MULTILINE)\n",
    "    text = re.sub(r'\\w*\\d\\w*', '', text)\n",
    "    text = re.sub(r'[^A-Za-z\\s]', '', text)\n",
    "    # Tokenize\n",
    "    tokens = word_tokenize(text)\n",
    "    # Remove stopwords and lemmatize\n",
    "    tokens = [lemmatizer.lemmatize(token) for token in tokens if token not in extended_stopwords and token not in stopwords.words('english')]\n",
    "    return ' '.join(tokens)\n",
    "\n",
    "# Assuming text_data is a list of texts from your JSON 'mapping' content\n",
    "preprocessed_texts = [preprocess_text(text) for text in text_data]\n",
    "\n",
    "# You can then proceed with these preprocessed texts for further analysis or modeling\n"
   ]
  },
  {
   "cell_type": "code",
   "execution_count": 37,
   "id": "015f6a21",
   "metadata": {
    "scrolled": true
   },
   "outputs": [
    {
     "name": "stderr",
     "output_type": "stream",
     "text": [
      "[nltk_data] Downloading package punkt to\n",
      "[nltk_data]     /Users/jeremyfeagan/nltk_data...\n",
      "[nltk_data]   Package punkt is already up-to-date!\n",
      "[nltk_data] Downloading package stopwords to\n",
      "[nltk_data]     /Users/jeremyfeagan/nltk_data...\n",
      "[nltk_data]   Package stopwords is already up-to-date!\n"
     ]
    },
    {
     "name": "stdout",
     "output_type": "stream",
     "text": [
      "(0, '0.011*\"health\" + 0.011*\"healthcare\" + 0.009*\"patient\" + 0.007*\"patients\"')\n",
      "(1, '0.004*\"like\" + 0.004*\"time\" + 0.004*\"american\" + 0.003*\"one\"')\n",
      "(2, '0.020*\"data\" + 0.014*\"column\" + 0.009*\"code\" + 0.008*\"python\"')\n",
      "(3, '0.009*\"use\" + 0.008*\"text\" + 0.007*\"information\" + 0.006*\"x\"')\n",
      "(4, '0.007*\"function\" + 0.006*\"failure\" + 0.006*\"treatment\" + 0.005*\"blood\"')\n"
     ]
    }
   ],
   "source": [
    "# Ensure necessary NLTK data is downloaded\n",
    "nltk.download('punkt')\n",
    "nltk.download('stopwords')\n",
    "\n",
    "# Preprocess the texts (assuming `text_data` contains your raw text)\n",
    "def preprocess_text(text):\n",
    "    # Lowercasing, removing special characters, numbers, and URLs\n",
    "    text = text.lower()\n",
    "    text = re.sub(r'\\W', ' ', text)\n",
    "    text = re.sub(r'\\s+[a-zA-Z]\\s+', ' ', text)\n",
    "    text = re.sub(r'\\^[a-zA-Z]\\s+', ' ', text)\n",
    "    text = re.sub(r'\\s+', ' ', text, flags=re.I)\n",
    "    text = re.sub(r'^b\\s+', '', text)\n",
    "    text = re.sub(r'\\d', '', text)\n",
    "    # Removing stopwords\n",
    "    stop_words = set(stopwords.words('english'))\n",
    "    words = nltk.word_tokenize(text)\n",
    "    filtered_text = [word for word in words if word not in stop_words]\n",
    "    return filtered_text\n",
    "\n",
    "# Applying preprocessing\n",
    "processed_texts = [preprocess_text(document) for document in text_data]\n",
    "\n",
    "# Preparing the dictionary and corpus for LDA\n",
    "dictionary = corpora.Dictionary(processed_texts)\n",
    "corpus = [dictionary.doc2bow(text) for text in processed_texts]\n",
    "\n",
    "# Applying LDA\n",
    "lda_model = models.LdaModel(corpus, num_topics=5, id2word=dictionary, passes=15)\n",
    "\n",
    "# Displaying identified topics\n",
    "topics = lda_model.print_topics(num_words=4)\n",
    "for topic in topics:\n",
    "    print(topic)"
   ]
  },
  {
   "cell_type": "code",
   "execution_count": 38,
   "id": "eb984b6d",
   "metadata": {},
   "outputs": [
    {
     "name": "stderr",
     "output_type": "stream",
     "text": [
      "[nltk_data] Downloading package punkt to\n",
      "[nltk_data]     /Users/jeremyfeagan/nltk_data...\n",
      "[nltk_data]   Package punkt is already up-to-date!\n",
      "[nltk_data] Downloading package stopwords to\n",
      "[nltk_data]     /Users/jeremyfeagan/nltk_data...\n",
      "[nltk_data]   Package stopwords is already up-to-date!\n"
     ]
    },
    {
     "name": "stdout",
     "output_type": "stream",
     "text": [
      "(0, '0.000*\"498d\" + 0.000*\"40a3\" + 0.000*\"4735\" + 0.000*\"4b95\" + 0.000*\"45a1\"')\n",
      "(1, '0.000*\"4391\" + 0.000*\"44e0\" + 0.000*\"484f\" + 0.000*\"4985\" + 0.000*\"4e92\"')\n",
      "(2, '0.000*\"4579\" + 0.000*\"471c\" + 0.000*\"b0be\" + 0.000*\"4f8d\" + 0.000*\"486d\"')\n",
      "(3, '0.000*\"4979\" + 0.000*\"40df\" + 0.000*\"4591\" + 0.000*\"4532\" + 0.000*\"4568\"')\n",
      "(4, '0.000*\"46e2\" + 0.000*\"4603\" + 0.000*\"420e\" + 0.000*\"4cbd\" + 0.000*\"4a82\"')\n",
      "(5, '0.000*\"4264\" + 0.000*\"43d2\" + 0.000*\"419e\" + 0.000*\"4eba\" + 0.000*\"489d\"')\n",
      "(6, '0.000*\"447d\" + 0.000*\"4183\" + 0.000*\"43a5\" + 0.000*\"4c0a\" + 0.000*\"4a72\"')\n",
      "(7, '0.000*\"4fac\" + 0.000*\"4236\" + 0.000*\"4426\" + 0.000*\"40a3\" + 0.000*\"4eae\"')\n",
      "(8, '0.000*\"4156\" + 0.000*\"4414\" + 0.000*\"4140\" + 0.000*\"4d64\" + 0.000*\"9a3b\"')\n",
      "(9, '0.000*\"4c15\" + 0.000*\"4a07\" + 0.000*\"4b48\" + 0.000*\"4eb4\" + 0.000*\"49d1\"')\n"
     ]
    }
   ],
   "source": [
    "# Download necessary NLTK data\n",
    "nltk.download('punkt')\n",
    "nltk.download('stopwords')\n",
    "\n",
    "# Function to preprocess text data\n",
    "def preprocess_text(text):\n",
    "    text = text.lower()\n",
    "    text = re.sub(r'\\W', ' ', text)\n",
    "    text = re.sub(r'\\s+[a-zA-Z]\\s+', ' ', text)\n",
    "    text = re.sub(r'\\s+', ' ', text, flags=re.I)\n",
    "    stop_words = set(stopwords.words('english'))\n",
    "    words = nltk.word_tokenize(text)\n",
    "    filtered_text = [word for word in words if word not in stop_words]\n",
    "    return filtered_text\n",
    "\n",
    "# Assuming `data` is your loaded JSON conversations\n",
    "text_data = [convo['mapping'] for convo in data]  # Adjust based on your JSON structure\n",
    "processed_texts = [preprocess_text(\" \".join(convo)) for convo in text_data]  # Adjust joining based on your data\n",
    "\n",
    "# Create Dictionary and Corpus\n",
    "dictionary = corpora.Dictionary(processed_texts)\n",
    "corpus = [dictionary.doc2bow(text) for text in processed_texts]\n",
    "\n",
    "# Apply LDA Model\n",
    "lda_model = models.LdaModel(corpus, num_topics=10, id2word=dictionary, passes=20)\n",
    "topics = lda_model.print_topics(num_words=5)\n",
    "\n",
    "# Print the topics\n",
    "for topic in topics:\n",
    "    print(topic)\n"
   ]
  },
  {
   "cell_type": "code",
   "execution_count": 39,
   "id": "acd5ba33",
   "metadata": {},
   "outputs": [
    {
     "name": "stderr",
     "output_type": "stream",
     "text": [
      "[nltk_data] Downloading package stopwords to\n",
      "[nltk_data]     /Users/jeremyfeagan/nltk_data...\n",
      "[nltk_data]   Package stopwords is already up-to-date!\n"
     ]
    },
    {
     "ename": "TypeError",
     "evalue": "expected string or bytes-like object, got 'dict'",
     "output_type": "error",
     "traceback": [
      "\u001b[0;31m---------------------------------------------------------------------------\u001b[0m",
      "\u001b[0;31mTypeError\u001b[0m                                 Traceback (most recent call last)",
      "Cell \u001b[0;32mIn[39], line 18\u001b[0m\n\u001b[1;32m     15\u001b[0m     \u001b[38;5;28;01mreturn\u001b[39;00m filtered_tokens\n\u001b[1;32m     17\u001b[0m \u001b[38;5;66;03m# Assuming 'text_data' is a list of your conversation texts\u001b[39;00m\n\u001b[0;32m---> 18\u001b[0m processed_texts \u001b[38;5;241m=\u001b[39m [preprocess_text(text) \u001b[38;5;28;01mfor\u001b[39;00m text \u001b[38;5;129;01min\u001b[39;00m text_data]\n\u001b[1;32m     20\u001b[0m \u001b[38;5;66;03m# Create Dictionary and Corpus for LDA\u001b[39;00m\n\u001b[1;32m     21\u001b[0m dictionary \u001b[38;5;241m=\u001b[39m corpora\u001b[38;5;241m.\u001b[39mDictionary(processed_texts)\n",
      "Cell \u001b[0;32mIn[39], line 18\u001b[0m, in \u001b[0;36m<listcomp>\u001b[0;34m(.0)\u001b[0m\n\u001b[1;32m     15\u001b[0m     \u001b[38;5;28;01mreturn\u001b[39;00m filtered_tokens\n\u001b[1;32m     17\u001b[0m \u001b[38;5;66;03m# Assuming 'text_data' is a list of your conversation texts\u001b[39;00m\n\u001b[0;32m---> 18\u001b[0m processed_texts \u001b[38;5;241m=\u001b[39m [preprocess_text(text) \u001b[38;5;28;01mfor\u001b[39;00m text \u001b[38;5;129;01min\u001b[39;00m text_data]\n\u001b[1;32m     20\u001b[0m \u001b[38;5;66;03m# Create Dictionary and Corpus for LDA\u001b[39;00m\n\u001b[1;32m     21\u001b[0m dictionary \u001b[38;5;241m=\u001b[39m corpora\u001b[38;5;241m.\u001b[39mDictionary(processed_texts)\n",
      "Cell \u001b[0;32mIn[39], line 7\u001b[0m, in \u001b[0;36mpreprocess_text\u001b[0;34m(text)\u001b[0m\n\u001b[1;32m      5\u001b[0m \u001b[38;5;28;01mdef\u001b[39;00m \u001b[38;5;21mpreprocess_text\u001b[39m(text):\n\u001b[1;32m      6\u001b[0m     \u001b[38;5;66;03m# Remove hexadecimal codes and non-ASCII characters\u001b[39;00m\n\u001b[0;32m----> 7\u001b[0m     text \u001b[38;5;241m=\u001b[39m re\u001b[38;5;241m.\u001b[39msub(\u001b[38;5;124mr\u001b[39m\u001b[38;5;124m'\u001b[39m\u001b[38;5;124m\\\u001b[39m\u001b[38;5;124mb[0-9a-fA-F]\u001b[39m\u001b[38;5;124m{\u001b[39m\u001b[38;5;124m4,}\u001b[39m\u001b[38;5;124m\\\u001b[39m\u001b[38;5;124mb\u001b[39m\u001b[38;5;124m'\u001b[39m, \u001b[38;5;124m'\u001b[39m\u001b[38;5;124m'\u001b[39m, text)\n\u001b[1;32m      8\u001b[0m     \u001b[38;5;66;03m# Keep only words with alphabetic characters\u001b[39;00m\n\u001b[1;32m      9\u001b[0m     text \u001b[38;5;241m=\u001b[39m re\u001b[38;5;241m.\u001b[39msub(\u001b[38;5;124mr\u001b[39m\u001b[38;5;124m'\u001b[39m\u001b[38;5;124m[^a-zA-Z\u001b[39m\u001b[38;5;124m\\\u001b[39m\u001b[38;5;124ms]\u001b[39m\u001b[38;5;124m'\u001b[39m, \u001b[38;5;124m'\u001b[39m\u001b[38;5;124m'\u001b[39m, text)\n",
      "File \u001b[0;32m~/anaconda3/lib/python3.11/re/__init__.py:185\u001b[0m, in \u001b[0;36msub\u001b[0;34m(pattern, repl, string, count, flags)\u001b[0m\n\u001b[1;32m    178\u001b[0m \u001b[38;5;28;01mdef\u001b[39;00m \u001b[38;5;21msub\u001b[39m(pattern, repl, string, count\u001b[38;5;241m=\u001b[39m\u001b[38;5;241m0\u001b[39m, flags\u001b[38;5;241m=\u001b[39m\u001b[38;5;241m0\u001b[39m):\n\u001b[1;32m    179\u001b[0m \u001b[38;5;250m    \u001b[39m\u001b[38;5;124;03m\"\"\"Return the string obtained by replacing the leftmost\u001b[39;00m\n\u001b[1;32m    180\u001b[0m \u001b[38;5;124;03m    non-overlapping occurrences of the pattern in string by the\u001b[39;00m\n\u001b[1;32m    181\u001b[0m \u001b[38;5;124;03m    replacement repl.  repl can be either a string or a callable;\u001b[39;00m\n\u001b[1;32m    182\u001b[0m \u001b[38;5;124;03m    if a string, backslash escapes in it are processed.  If it is\u001b[39;00m\n\u001b[1;32m    183\u001b[0m \u001b[38;5;124;03m    a callable, it's passed the Match object and must return\u001b[39;00m\n\u001b[1;32m    184\u001b[0m \u001b[38;5;124;03m    a replacement string to be used.\"\"\"\u001b[39;00m\n\u001b[0;32m--> 185\u001b[0m     \u001b[38;5;28;01mreturn\u001b[39;00m _compile(pattern, flags)\u001b[38;5;241m.\u001b[39msub(repl, string, count)\n",
      "\u001b[0;31mTypeError\u001b[0m: expected string or bytes-like object, got 'dict'"
     ]
    }
   ],
   "source": [
    "# Ensure necessary NLTK data is downloaded\n",
    "nltk.download('stopwords')\n",
    "\n",
    "# Custom preprocessing function\n",
    "def preprocess_text(text):\n",
    "    # Remove hexadecimal codes and non-ASCII characters\n",
    "    text = re.sub(r'\\b[0-9a-fA-F]{4,}\\b', '', text)\n",
    "    # Keep only words with alphabetic characters\n",
    "    text = re.sub(r'[^a-zA-Z\\s]', '', text)\n",
    "    # Tokenize and remove stopwords\n",
    "    tokenizer = RegexpTokenizer(r'\\w+')\n",
    "    stop_words = set(stopwords.words('english'))\n",
    "    tokens = tokenizer.tokenize(text.lower())\n",
    "    filtered_tokens = [token for token in tokens if token not in stop_words and len(token) > 1]\n",
    "    return filtered_tokens\n",
    "\n",
    "# Assuming 'text_data' is a list of your conversation texts\n",
    "processed_texts = [preprocess_text(text) for text in text_data]\n",
    "\n",
    "# Create Dictionary and Corpus for LDA\n",
    "dictionary = corpora.Dictionary(processed_texts)\n",
    "corpus = [dictionary.doc2bow(text) for text in processed_texts]\n",
    "\n",
    "# Apply LDA Model\n",
    "lda_model = models.LdaModel(corpus, num_topics=10, id2word=dictionary, passes=20, random_state=100)\n",
    "\n",
    "# Display identified topics\n",
    "topics = lda_model.print_topics(num_words=5)\n",
    "for topic in topics:\n",
    "    print(topic)"
   ]
  },
  {
   "cell_type": "code",
   "execution_count": 36,
   "id": "441378c7",
   "metadata": {},
   "outputs": [
    {
     "data": {
      "text/html": [
       "<div>\n",
       "<style scoped>\n",
       "    .dataframe tbody tr th:only-of-type {\n",
       "        vertical-align: middle;\n",
       "    }\n",
       "\n",
       "    .dataframe tbody tr th {\n",
       "        vertical-align: top;\n",
       "    }\n",
       "\n",
       "    .dataframe thead th {\n",
       "        text-align: right;\n",
       "    }\n",
       "</style>\n",
       "<table border=\"1\" class=\"dataframe\">\n",
       "  <thead>\n",
       "    <tr style=\"text-align: right;\">\n",
       "      <th></th>\n",
       "      <th>create_time</th>\n",
       "      <th>update_time</th>\n",
       "    </tr>\n",
       "  </thead>\n",
       "  <tbody>\n",
       "    <tr>\n",
       "      <th>count</th>\n",
       "      <td>4.200000e+02</td>\n",
       "      <td>4.200000e+02</td>\n",
       "    </tr>\n",
       "    <tr>\n",
       "      <th>mean</th>\n",
       "      <td>1.697029e+09</td>\n",
       "      <td>1.697169e+09</td>\n",
       "    </tr>\n",
       "    <tr>\n",
       "      <th>std</th>\n",
       "      <td>7.888773e+06</td>\n",
       "      <td>7.906662e+06</td>\n",
       "    </tr>\n",
       "    <tr>\n",
       "      <th>min</th>\n",
       "      <td>1.672583e+09</td>\n",
       "      <td>1.673850e+09</td>\n",
       "    </tr>\n",
       "    <tr>\n",
       "      <th>25%</th>\n",
       "      <td>1.688579e+09</td>\n",
       "      <td>1.688887e+09</td>\n",
       "    </tr>\n",
       "    <tr>\n",
       "      <th>50%</th>\n",
       "      <td>1.699216e+09</td>\n",
       "      <td>1.699267e+09</td>\n",
       "    </tr>\n",
       "    <tr>\n",
       "      <th>75%</th>\n",
       "      <td>1.704741e+09</td>\n",
       "      <td>1.704798e+09</td>\n",
       "    </tr>\n",
       "    <tr>\n",
       "      <th>max</th>\n",
       "      <td>1.706800e+09</td>\n",
       "      <td>1.706827e+09</td>\n",
       "    </tr>\n",
       "  </tbody>\n",
       "</table>\n",
       "</div>"
      ],
      "text/plain": [
       "        create_time   update_time\n",
       "count  4.200000e+02  4.200000e+02\n",
       "mean   1.697029e+09  1.697169e+09\n",
       "std    7.888773e+06  7.906662e+06\n",
       "min    1.672583e+09  1.673850e+09\n",
       "25%    1.688579e+09  1.688887e+09\n",
       "50%    1.699216e+09  1.699267e+09\n",
       "75%    1.704741e+09  1.704798e+09\n",
       "max    1.706800e+09  1.706827e+09"
      ]
     },
     "execution_count": 36,
     "metadata": {},
     "output_type": "execute_result"
    }
   ],
   "source": [
    "# Get summary statistics of the DataFrame\n",
    "summary_stats = df.describe()\n",
    "summary_stats"
   ]
  },
  {
   "cell_type": "code",
   "execution_count": 25,
   "id": "62a5592f",
   "metadata": {},
   "outputs": [
    {
     "data": {
      "text/plain": [
       "Index(['title', 'create_time', 'update_time', 'mapping', 'moderation_results',\n",
       "       'current_node', 'plugin_ids', 'conversation_id',\n",
       "       'conversation_template_id', 'gizmo_id', 'is_archived', 'safe_urls',\n",
       "       'id'],\n",
       "      dtype='object')"
      ]
     },
     "execution_count": 25,
     "metadata": {},
     "output_type": "execute_result"
    }
   ],
   "source": [
    "columns = df.columns\n",
    "columns\n"
   ]
  },
  {
   "cell_type": "code",
   "execution_count": 26,
   "id": "7eff04e8",
   "metadata": {},
   "outputs": [
    {
     "name": "stdout",
     "output_type": "stream",
     "text": [
      "dict_keys(['title', 'create_time', 'update_time', 'mapping', 'moderation_results', 'current_node', 'plugin_ids', 'conversation_id', 'conversation_template_id', 'gizmo_id', 'is_archived', 'safe_urls', 'id'])\n"
     ]
    }
   ],
   "source": [
    "# Explore the structure of your data\n",
    "# For example, print the keys of the first conversation\n",
    "print(data[0].keys())\n"
   ]
  },
  {
   "cell_type": "code",
   "execution_count": 27,
   "id": "ffdf67af",
   "metadata": {},
   "outputs": [
    {
     "data": {
      "image/png": "[encoded data removed]",
      "text/plain": [
       "<Figure size 640x480 with 1 Axes>"
      ]
     },
     "metadata": {},
     "output_type": "display_data"
    }
   ],
   "source": [
    "import json\n",
    "import matplotlib.pyplot as plt\n",
    "\n",
    "# Assuming you've loaded your JSON data into a variable named 'data'\n",
    "# and 'mapping' or another key holds information relevant to conversation length\n",
    "\n",
    "# Example: Count the number of entries in 'mapping' as a proxy for conversation length\n",
    "conversation_lengths = [len(convo['mapping']) for convo in data if 'mapping' in convo]\n",
    "\n",
    "plt.hist(conversation_lengths, bins=20)\n",
    "plt.xlabel('Conversation Length (Number of Entries in Mapping)')\n",
    "plt.ylabel('Frequency')\n",
    "plt.show()\n"
   ]
  },
  {
   "cell_type": "code",
   "execution_count": 32,
   "id": "c21fe4e1",
   "metadata": {},
   "outputs": [
    {
     "name": "stdout",
     "output_type": "stream",
     "text": [
      "(0, '0.053*\"the\" + 0.041*\"of\" + 0.036*\"and\" + 0.018*\"a\" + 0.016*\"in\" + 0.012*\"to\" + 0.009*\"The\" + 0.006*\"as\" + 0.005*\"by\" + 0.005*\"for\"')\n",
      "(1, '0.050*\"and\" + 0.032*\"the\" + 0.030*\"to\" + 0.024*\"of\" + 0.016*\"a\" + 0.015*\"in\" + 0.013*\"for\" + 0.013*\"-\" + 0.010*\"with\" + 0.007*\"that\"')\n",
      "(2, '0.053*\"the\" + 0.033*\"to\" + 0.027*\"a\" + 0.024*\"of\" + 0.022*\"and\" + 0.015*\"you\" + 0.014*\"I\" + 0.014*\"that\" + 0.013*\"in\" + 0.013*\"is\"')\n",
      "(3, '0.026*\"the\" + 0.023*\"+\" + 0.021*\"=\" + 0.020*\"-\" + 0.013*\"of\" + 0.008*\"is\" + 0.007*\"to\" + 0.005*\"and\" + 0.005*\"\\\\(\" + 0.005*\"\\\\item\"')\n",
      "(4, '0.053*\"the\" + 0.021*\"=\" + 0.017*\"to\" + 0.015*\"#\" + 0.014*\"in\" + 0.012*\"and\" + 0.012*\"for\" + 0.012*\"of\" + 0.010*\"a\" + 0.007*\"data\"')\n"
     ]
    }
   ],
   "source": [
    "# Extract conversation texts from the 'mapping' key\n",
    "text_data = []\n",
    "for conversation in data:\n",
    "    for key, value in conversation['mapping'].items():\n",
    "        message = value.get('message')\n",
    "        if message:\n",
    "            content = message.get('content')\n",
    "            if content:\n",
    "                parts = content.get('parts')\n",
    "                if parts and isinstance(parts, list):  # Ensure 'parts' is a list\n",
    "                    parts_texts = []\n",
    "                    for part in parts:\n",
    "                        if isinstance(part, dict) and 'text' in part:\n",
    "                            parts_texts.append(part.get('text', ''))\n",
    "                        elif isinstance(part, str):\n",
    "                            parts_texts.append(part)\n",
    "                    combined_text = ' '.join(parts_texts).strip()\n",
    "                    if combined_text:  # Ensure non-empty string\n",
    "                        text_data.append(combined_text)\n",
    "\n",
    "# Tokenize the text data\n",
    "tokenized_text = [text.split() for text in text_data]\n",
    "\n",
    "# Create a dictionary and document-term matrix\n",
    "dictionary = corpora.Dictionary(tokenized_text)\n",
    "doc_term_matrix = [dictionary.doc2bow(doc) for doc in tokenized_text]\n",
    "\n",
    "# Train an LDA topic model\n",
    "lda_model = models.LdaModel(doc_term_matrix, num_topics=5, id2word=dictionary, passes=15)\n",
    "\n",
    "# Get the topics and their associated keywords\n",
    "topics = lda_model.print_topics()\n",
    "for topic in topics:\n",
    "    print(topic)"
   ]
  },
  {
   "cell_type": "code",
   "execution_count": null,
   "id": "644e934d",
   "metadata": {},
   "outputs": [],
   "source": []
  }
 ],
 "metadata": {
  "kernelspec": {
   "display_name": "Python 3 (ipykernel)",
   "language": "python",
   "name": "python3"
  },
  "language_info": {
   "codemirror_mode": {
    "name": "ipython",
    "version": 3
   },
   "file_extension": ".py",
   "mimetype": "text/x-python",
   "name": "python",
   "nbconvert_exporter": "python",
   "pygments_lexer": "ipython3",
   "version": "3.11.5"
  },
  "toc": {
   "base_numbering": 1,
   "nav_menu": {},
   "number_sections": true,
   "sideBar": true,
   "skip_h1_title": false,
   "title_cell": "Table of Contents",
   "title_sidebar": "Contents",
   "toc_cell": false,
   "toc_position": {},
   "toc_section_display": true,
   "toc_window_display": false
  }
 },
 "nbformat": 4,
 "nbformat_minor": 5
}
