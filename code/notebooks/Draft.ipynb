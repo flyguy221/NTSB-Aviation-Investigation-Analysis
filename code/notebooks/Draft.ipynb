{
 "cells": [
  {
   "cell_type": "markdown",
   "id": "b1eae6c8",
   "metadata": {},
   "source": [
    "# Exploratory Data Analysis of Aviation Accident Data\n",
    "\n",
    "\n",
    "## Description\n",
    "\n",
    "This Jupyter Notebook performs an exploratory data analysis (EDA) on a dataset containing information about aviation accidents. The dataset includes details about different aviation accidents, such as accident type, location, date, and factors contributing to the accidents.\n",
    "\n",
    "The purpose of this analysis is to gain insights into the dataset and answer several key questions:\n",
    "\n",
    "1. What are the most common causes of accidents among Part 121 air carriers?\n",
    "2. Are there any seasonal or time-related patterns in accidents?\n",
    "3. How has the safety record of Part 121 air carriers evolved over the years?\n",
    "4. Are there any correlations between specific factors (e.g., weather conditions, aircraft types) and accident severity?\n",
    "\n",
    "By exploring and visualizing the data, the aim is to provide a better understanding of aviation accidents and identify trends and patterns that may be useful for improving aviation safety.\n",
    "\n",
    "---\n",
    "\n",
    "**Note**: This notebook is for educational and analytical purposes only. It does not cover any specific incident or accident investigation.\n"
   ]
  },
  {
   "cell_type": "markdown",
   "id": "26c0d3c9",
   "metadata": {},
   "source": [
    "# Imports\n",
    "## Libraries"
   ]
  },
  {
   "cell_type": "code",
   "execution_count": 15,
   "id": "c8625e27",
   "metadata": {},
   "outputs": [
    {
     "name": "stdout",
     "output_type": "stream",
     "text": [
      "Requirement already satisfied: pandas in /Users/jeremyfeagan/anaconda3/lib/python3.11/site-packages (2.0.3)\n",
      "Requirement already satisfied: pyodbc in /Users/jeremyfeagan/anaconda3/lib/python3.11/site-packages (4.0.34)\n",
      "Requirement already satisfied: python-dateutil>=2.8.2 in /Users/jeremyfeagan/anaconda3/lib/python3.11/site-packages (from pandas) (2.8.2)\n",
      "Requirement already satisfied: pytz>=2020.1 in /Users/jeremyfeagan/anaconda3/lib/python3.11/site-packages (from pandas) (2023.3.post1)\n",
      "Requirement already satisfied: tzdata>=2022.1 in /Users/jeremyfeagan/anaconda3/lib/python3.11/site-packages (from pandas) (2023.3)\n",
      "Requirement already satisfied: numpy>=1.21.0 in /Users/jeremyfeagan/anaconda3/lib/python3.11/site-packages (from pandas) (1.24.3)\n",
      "Requirement already satisfied: six>=1.5 in /Users/jeremyfeagan/anaconda3/lib/python3.11/site-packages (from python-dateutil>=2.8.2->pandas) (1.16.0)\n",
      "Imports executed at 2023-12-29 11:58:50.729940\n"
     ]
    }
   ],
   "source": [
    "# Standard Library Imports\n",
    "import os\n",
    "import sys\n",
    "from datetime import datetime\n",
    "\n",
    "# Third-Party Library Imports\n",
    "import pandas as pd\n",
    "import matplotlib.pyplot as plt\n",
    "import seaborn as sns\n",
    "\n",
    "\n",
    "\n",
    "\n",
    "# Print a timestamp to indicate when the imports were executed\n",
    "print(f\"Imports executed at {datetime.now()}\")"
   ]
  },
  {
   "cell_type": "markdown",
   "id": "fa96756a",
   "metadata": {},
   "source": [
    "## Data"
   ]
  },
  {
   "cell_type": "markdown",
   "id": "1df92e67",
   "metadata": {},
   "source": [
    "Establish Static URLs for the individual tables"
   ]
  },
  {
   "cell_type": "code",
   "execution_count": null,
   "id": "5fc4e6b2",
   "metadata": {},
   "outputs": [],
   "source": []
  },
  {
   "cell_type": "code",
   "execution_count": 16,
   "id": "cea366ee",
   "metadata": {},
   "outputs": [
    {
     "ename": "Error",
     "evalue": "('01000', \"[01000] [unixODBC][Driver Manager]Can't open lib 'Microsoft Access Driver (*.mdb, *.accdb)' : file not found (0) (SQLDriverConnect)\")",
     "output_type": "error",
     "traceback": [
      "\u001b[0;31m---------------------------------------------------------------------------\u001b[0m",
      "\u001b[0;31mError\u001b[0m                                     Traceback (most recent call last)",
      "Cell \u001b[0;32mIn[16], line 4\u001b[0m\n\u001b[1;32m      2\u001b[0m db_path \u001b[38;5;241m=\u001b[39m \u001b[38;5;124mr\u001b[39m\u001b[38;5;124m'\u001b[39m\u001b[38;5;124m/Users/jeremyfeagan/Desktop/avall.mdb\u001b[39m\u001b[38;5;124m'\u001b[39m\n\u001b[1;32m      3\u001b[0m connection_string \u001b[38;5;241m=\u001b[39m \u001b[38;5;124mf\u001b[39m\u001b[38;5;124m'\u001b[39m\u001b[38;5;124mDRIVER=\u001b[39m\u001b[38;5;130;01m{{\u001b[39;00m\u001b[38;5;124mMicrosoft Access Driver (*.mdb, *.accdb)\u001b[39m\u001b[38;5;130;01m}}\u001b[39;00m\u001b[38;5;124m;DBQ=\u001b[39m\u001b[38;5;132;01m{\u001b[39;00mdb_path\u001b[38;5;132;01m}\u001b[39;00m\u001b[38;5;124m;\u001b[39m\u001b[38;5;124m'\u001b[39m\n\u001b[0;32m----> 4\u001b[0m conn \u001b[38;5;241m=\u001b[39m pyodbc\u001b[38;5;241m.\u001b[39mconnect(connection_string)\n\u001b[1;32m      7\u001b[0m \u001b[38;5;66;03m#Print a timestamp to indicate when the import was executed\u001b[39;00m\n\u001b[1;32m      8\u001b[0m \u001b[38;5;28mprint\u001b[39m(\u001b[38;5;124mf\u001b[39m\u001b[38;5;124m\"\u001b[39m\u001b[38;5;124mData Import Completed at \u001b[39m\u001b[38;5;132;01m{\u001b[39;00mdatetime\u001b[38;5;241m.\u001b[39mnow()\u001b[38;5;132;01m}\u001b[39;00m\u001b[38;5;124m\"\u001b[39m)\n",
      "\u001b[0;31mError\u001b[0m: ('01000', \"[01000] [unixODBC][Driver Manager]Can't open lib 'Microsoft Access Driver (*.mdb, *.accdb)' : file not found (0) (SQLDriverConnect)\")"
     ]
    }
   ],
   "source": [
    "# Load data from JSON\n",
    "df = pd.read_csv('https://raw.githubusercontent.com/flyguy221/NTSB-Aviation-Investigation-Analysis/aea43e7658cff1ec3ce3364d9e619191f0bff7a5/data/raw/cases2023-12-29_06-03/cases2023-12-29_06-03.json')\n",
    "\n",
    "#Print a timestamp to indicate when the import was executed\n",
    "print(f\"Data Import Completed at {datetime.now()}\")"
   ]
  },
  {
   "cell_type": "markdown",
   "id": "5fa5d832",
   "metadata": {},
   "source": [
    "# Data Overview"
   ]
  },
  {
   "cell_type": "code",
   "execution_count": 12,
   "id": "b96f0271",
   "metadata": {},
   "outputs": [
    {
     "name": "stdout",
     "output_type": "stream",
     "text": [
      "       NtsbNo EventType    Mkey             EventDate            City  \\\n",
      "0  DCA23LA445       ACC  193031  2023-09-07T02:32:00Z          Hebron   \n",
      "1  DCA23LA382       ACC  192742  2023-07-28T08:16:00Z    Myrtle Beach   \n",
      "2  DCA23LA383       ACC  192743  2023-07-24T15:30:00Z  East Palestine   \n",
      "3  DCA23WA394       ACC  192790  2023-07-24T11:00:00Z       Fuimicino   \n",
      "4  DCA23WA363       ACC  192633  2023-07-17T01:30:00Z        Tel Aviv   \n",
      "\n",
      "            State        Country ReportNo              N# SerialNumber  ...  \\\n",
      "0        Kentucky  United States      NaN          N37531        66119  ...   \n",
      "1  Atlantic Ocean  United States      NaN          N77431        32833  ...   \n",
      "2            Ohio  United States      NaN          N279WN        32532  ...   \n",
      "3             NaN          Italy      NaN          N189DN        25990  ...   \n",
      "4   Other Foreign         Israel      NaN  OE-LRG, N918FD        24290  ...   \n",
      "\n",
      "         FAR      AirCraftDamage WeatherCondition  \\\n",
      "0        121                 NaN              VMC   \n",
      "1        121                 NaN              IMC   \n",
      "2        121                 NaN              IMC   \n",
      "3        121               Minor              NaN   \n",
      "4  NUSC, 121  Minor, Substantial              NaN   \n",
      "\n",
      "                                  Operator BroadPhaseofFlight ReportStatus  \\\n",
      "0                      UNITED AIRLINES INC            Enroute    Completed   \n",
      "1                      UNITED AIRLINES INC            Enroute    Completed   \n",
      "2                    SOUTHWEST AIRLINES CO           Approach    Completed   \n",
      "3                      DELTA AIR LINES INC            Enroute          NaN   \n",
      "4  Challenge Belgium, FEDERAL EXPRESS CORP       Pushback/Tow          NaN   \n",
      "\n",
      "   RepGenFlag  MostRecentReportType  \\\n",
      "0         NaN                 Final   \n",
      "1         NaN                 Final   \n",
      "2         NaN                 Final   \n",
      "3         NaN                Prelim   \n",
      "4         NaN                Prelim   \n",
      "\n",
      "                                       DocketUrl  \\\n",
      "0                                            NaN   \n",
      "1  https://data.ntsb.gov/Docket?ProjectID=192742   \n",
      "2  https://data.ntsb.gov/Docket?ProjectID=192743   \n",
      "3                                            NaN   \n",
      "4                                            NaN   \n",
      "\n",
      "                                           ReportUrl  \n",
      "0  https://data.ntsb.gov/carol-repgen/api/Aviatio...  \n",
      "1  https://data.ntsb.gov/carol-repgen/api/Aviatio...  \n",
      "2  https://data.ntsb.gov/carol-repgen/api/Aviatio...  \n",
      "3                                                NaN  \n",
      "4                                                NaN  \n",
      "\n",
      "[5 rows x 44 columns]\n",
      "<class 'pandas.core.frame.DataFrame'>\n",
      "RangeIndex: 1286 entries, 0 to 1285\n",
      "Data columns (total 44 columns):\n",
      " #   Column                       Non-Null Count  Dtype  \n",
      "---  ------                       --------------  -----  \n",
      " 0   NtsbNo                       1286 non-null   object \n",
      " 1   EventType                    1286 non-null   object \n",
      " 2   Mkey                         1286 non-null   int64  \n",
      " 3   EventDate                    1286 non-null   object \n",
      " 4   City                         1283 non-null   object \n",
      " 5   State                        1149 non-null   object \n",
      " 6   Country                      1251 non-null   object \n",
      " 7   ReportNo                     81 non-null     object \n",
      " 8   N#                           1286 non-null   object \n",
      " 9   SerialNumber                 1192 non-null   object \n",
      " 10  HasSafetyRec                 1286 non-null   bool   \n",
      " 11  Mode                         1286 non-null   object \n",
      " 12  ReportType                   1182 non-null   object \n",
      " 13  OriginalPublishedDate        1125 non-null   object \n",
      " 14  DocketOriginalPublishedDate  451 non-null    object \n",
      " 15  HighestInjuryLevel           808 non-null    object \n",
      " 16  FatalInjuryCount             1283 non-null   float64\n",
      " 17  SeriousInjuryCount           1283 non-null   float64\n",
      " 18  MinorInjuryCount             1283 non-null   float64\n",
      " 19  ProbableCause                1042 non-null   object \n",
      " 20  Findings                     394 non-null    object \n",
      " 21  EventID                      2 non-null      object \n",
      " 22  Latitude                     982 non-null    float64\n",
      " 23  Longitude                    982 non-null    float64\n",
      " 24  Make                         1286 non-null   object \n",
      " 25  Model                        1286 non-null   object \n",
      " 26  AirCraftCategory             1264 non-null   object \n",
      " 27  AirportID                    789 non-null    object \n",
      " 28  AirportName                  803 non-null    object \n",
      " 29  AmateurBuilt                 1286 non-null   object \n",
      " 30  NumberOfEngines              1190 non-null   object \n",
      " 31  EngineType                   1147 non-null   object \n",
      " 32  Scheduled                    1285 non-null   object \n",
      " 33  PurposeOfFlight              538 non-null    object \n",
      " 34  FAR                          1286 non-null   object \n",
      " 35  AirCraftDamage               740 non-null    object \n",
      " 36  WeatherCondition             1205 non-null   object \n",
      " 37  Operator                     898 non-null    object \n",
      " 38  BroadPhaseofFlight           418 non-null    object \n",
      " 39  ReportStatus                 1185 non-null   object \n",
      " 40  RepGenFlag                   2 non-null      float64\n",
      " 41  MostRecentReportType         1257 non-null   object \n",
      " 42  DocketUrl                    451 non-null    object \n",
      " 43  ReportUrl                    1184 non-null   object \n",
      "dtypes: bool(1), float64(6), int64(1), object(36)\n",
      "memory usage: 433.4+ KB\n",
      "None\n",
      "                Mkey  FatalInjuryCount  SeriousInjuryCount  MinorInjuryCount  \\\n",
      "count    1286.000000       1283.000000         1283.000000       1283.000000   \n",
      "mean    56313.583204          2.773967            0.856586          2.356196   \n",
      "std     31141.934107         19.638195            2.797594          9.422739   \n",
      "min      2577.000000          0.000000            0.000000          0.000000   \n",
      "25%     32155.250000          0.000000            0.000000          0.000000   \n",
      "50%     55247.000000          0.000000            1.000000          0.000000   \n",
      "75%     80447.500000          0.000000            1.000000          1.000000   \n",
      "max    193031.000000        270.000000           50.000000        171.000000   \n",
      "\n",
      "         Latitude  Longitude   RepGenFlag  \n",
      "count  982.000000  982.000000         2.0  \n",
      "mean    37.319663  -90.389997         1.0  \n",
      "std      9.580272   36.141528         0.0  \n",
      "min    -34.837645 -170.711395         1.0  \n",
      "25%     33.640280 -104.859243         1.0  \n",
      "50%     38.749755  -87.899372         1.0  \n",
      "75%     41.217113  -80.095140         1.0  \n",
      "max     70.344169  152.141662         1.0  \n",
      "(1286, 44)\n"
     ]
    }
   ],
   "source": [
    "# Display the first few rows of the dataset\n",
    "print(df.head())\n",
    "\n",
    "# Get basic info about the dataset\n",
    "print(df.info())\n",
    "\n",
    "# Generate summary statistics\n",
    "print(df.describe())\n",
    "\n",
    "# Check the dimensions of the DataFrame\n",
    "print(df.shape)"
   ]
  },
  {
   "cell_type": "markdown",
   "id": "4b9ac9ba",
   "metadata": {},
   "source": [
    "**The dataset has 41 columns and 1286 rows, with a mix of data types, including integers, floats, booleans, and objects (strings).**\n"
   ]
  },
  {
   "cell_type": "markdown",
   "id": "e09c2a44",
   "metadata": {},
   "source": [
    "# Data Cleaning:\n",
    "\n",
    "Before diving into the analysis, The following data cleaning steps will be completed:\n",
    "\n",
    "* Handle missing values: Identify and handle columns with missing values.\n",
    "* Data type conversion: Convert columns to appropriate data types.\n",
    "* Remove unnecessary columns: Drop columns that are not relevant to the analysis.\n",
    "* Exploratory Data Analysis (EDA): Begin by exploring the data to better understand its characteristics and to identify potential patterns or relationships. This will entail creating visualizations and summary statistics for different columns."
   ]
  },
  {
   "cell_type": "markdown",
   "id": "aa6aad01",
   "metadata": {},
   "source": [
    "## Handle Missing Values\n",
    "\n",
    "Check quantity of missing data"
   ]
  },
  {
   "cell_type": "code",
   "execution_count": 13,
   "id": "960bf1c2",
   "metadata": {},
   "outputs": [
    {
     "name": "stdout",
     "output_type": "stream",
     "text": [
      "NtsbNo                            0\n",
      "EventType                         0\n",
      "Mkey                              0\n",
      "EventDate                         0\n",
      "City                              3\n",
      "State                           137\n",
      "Country                          35\n",
      "ReportNo                       1205\n",
      "N#                                0\n",
      "SerialNumber                     94\n",
      "HasSafetyRec                      0\n",
      "Mode                              0\n",
      "ReportType                      104\n",
      "OriginalPublishedDate           161\n",
      "DocketOriginalPublishedDate     835\n",
      "HighestInjuryLevel              478\n",
      "FatalInjuryCount                  3\n",
      "SeriousInjuryCount                3\n",
      "MinorInjuryCount                  3\n",
      "ProbableCause                   244\n",
      "Findings                        892\n",
      "EventID                        1284\n",
      "Latitude                        304\n",
      "Longitude                       304\n",
      "Make                              0\n",
      "Model                             0\n",
      "AirCraftCategory                 22\n",
      "AirportID                       497\n",
      "AirportName                     483\n",
      "AmateurBuilt                      0\n",
      "NumberOfEngines                  96\n",
      "EngineType                      139\n",
      "Scheduled                         1\n",
      "PurposeOfFlight                 748\n",
      "FAR                               0\n",
      "AirCraftDamage                  546\n",
      "WeatherCondition                 81\n",
      "Operator                        388\n",
      "BroadPhaseofFlight              868\n",
      "ReportStatus                    101\n",
      "RepGenFlag                     1284\n",
      "MostRecentReportType             29\n",
      "DocketUrl                       835\n",
      "ReportUrl                       102\n",
      "dtype: int64\n"
     ]
    }
   ],
   "source": [
    "# Create temp DF\n",
    "missing_data = df.isna().sum()\n",
    "\n",
    "\n",
    "print(missing_data)"
   ]
  },
  {
   "cell_type": "code",
   "execution_count": 14,
   "id": "bdf302fb",
   "metadata": {},
   "outputs": [
    {
     "name": "stdout",
     "output_type": "stream",
     "text": [
      "NtsbNo                          0.000000\n",
      "EventType                       0.000000\n",
      "Mkey                            0.000000\n",
      "EventDate                       0.000000\n",
      "City                            0.233281\n",
      "State                          10.653188\n",
      "Country                         2.721617\n",
      "ReportNo                       93.701400\n",
      "N#                              0.000000\n",
      "SerialNumber                    7.309487\n",
      "HasSafetyRec                    0.000000\n",
      "Mode                            0.000000\n",
      "ReportType                      8.087092\n",
      "OriginalPublishedDate          12.519440\n",
      "DocketOriginalPublishedDate    64.930016\n",
      "HighestInjuryLevel             37.169518\n",
      "FatalInjuryCount                0.233281\n",
      "SeriousInjuryCount              0.233281\n",
      "MinorInjuryCount                0.233281\n",
      "ProbableCause                  18.973561\n",
      "Findings                       69.362364\n",
      "EventID                        99.844479\n",
      "Latitude                       23.639191\n",
      "Longitude                      23.639191\n",
      "Make                            0.000000\n",
      "Model                           0.000000\n",
      "AirCraftCategory                1.710731\n",
      "AirportID                      38.646967\n",
      "AirportName                    37.558320\n",
      "AmateurBuilt                    0.000000\n",
      "NumberOfEngines                 7.465008\n",
      "EngineType                     10.808709\n",
      "Scheduled                       0.077760\n",
      "PurposeOfFlight                58.164852\n",
      "FAR                             0.000000\n",
      "AirCraftDamage                 42.457232\n",
      "WeatherCondition                6.298600\n",
      "Operator                       30.171073\n",
      "BroadPhaseofFlight             67.496112\n",
      "ReportStatus                    7.853810\n",
      "RepGenFlag                     99.844479\n",
      "MostRecentReportType            2.255054\n",
      "DocketUrl                      64.930016\n",
      "ReportUrl                       7.931571\n",
      "dtype: float64\n"
     ]
    }
   ],
   "source": [
    "percentage_missing_data = (missing_data / len(df)) * 100\n",
    "print(percentage_missing_data)"
   ]
  },
  {
   "cell_type": "markdown",
   "id": "49bb7764",
   "metadata": {},
   "source": [
    "# Questions"
   ]
  },
  {
   "cell_type": "markdown",
   "id": "5486e62c",
   "metadata": {},
   "source": [
    "## What are the most common causes of accidents among Part 121 air carriers?"
   ]
  },
  {
   "cell_type": "markdown",
   "id": "1722752e",
   "metadata": {},
   "source": [
    "Answering Specific Questions:\n",
    "\n",
    "For the question about the most common causes of accidents, you can analyze the 'cm_probableCause' column.\n",
    "For seasonal or time-related patterns, explore the 'cm_eventDate' column and consider creating time-based visualizations.\n",
    "To understand the evolution of safety records, analyze the 'cm_eventDate' and 'cm_completionStatus' columns over time.\n",
    "For correlations, consider using correlation matrices and visualizations to identify relationships between factors and accident severity.\n",
    "Data Visualization: Visualize your findings using libraries like Matplotlib and Seaborn. This will help you communicate your results effectively.\n",
    "\n",
    "Hypothesis Testing: If your analysis involves hypothesis testing, you can perform statistical tests using libraries such as SciPy.\n",
    "\n",
    "Documentation: Make sure to document your code and analysis steps clearly in your Jupyter Notebook. This will help you and others understand the analysis process.\n",
    "\n",
    "Further Analysis: Depending on your findings, you may need to perform more in-depth analyses, such as time series analysis or regression modeling."
   ]
  },
  {
   "cell_type": "code",
   "execution_count": null,
   "id": "85d89391",
   "metadata": {},
   "outputs": [],
   "source": []
  }
 ],
 "metadata": {
  "kernelspec": {
   "display_name": "Python 3 (ipykernel)",
   "language": "python",
   "name": "python3"
  },
  "language_info": {
   "codemirror_mode": {
    "name": "ipython",
    "version": 3
   },
   "file_extension": ".py",
   "mimetype": "text/x-python",
   "name": "python",
   "nbconvert_exporter": "python",
   "pygments_lexer": "ipython3",
   "version": "3.11.5"
  },
  "toc": {
   "base_numbering": 1,
   "nav_menu": {},
   "number_sections": true,
   "sideBar": true,
   "skip_h1_title": false,
   "title_cell": "Table of Contents",
   "title_sidebar": "Contents",
   "toc_cell": false,
   "toc_position": {
    "height": "calc(100% - 180px)",
    "left": "10px",
    "top": "150px",
    "width": "343.729px"
   },
   "toc_section_display": true,
   "toc_window_display": true
  }
 },
 "nbformat": 4,
 "nbformat_minor": 5
}
