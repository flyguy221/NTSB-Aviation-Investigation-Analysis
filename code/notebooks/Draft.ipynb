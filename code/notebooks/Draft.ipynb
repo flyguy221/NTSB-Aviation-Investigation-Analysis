{
 "cells": [
  {
   "cell_type": "markdown",
   "id": "b1eae6c8",
   "metadata": {},
   "source": [
    "# Exploratory Data Analysis of Aviation Accident Data\n",
    "\n",
    "\n",
    "## Description\n",
    "\n",
    "This Jupyter Notebook performs an exploratory data analysis (EDA) on a dataset containing information about aviation accidents. The dataset includes details about different aviation accidents, such as accident type, location, date, and factors contributing to the accidents.\n",
    "\n",
    "The purpose of this analysis is to gain insights into the dataset and answer several key questions:\n",
    "\n",
    "1. What are the most common causes of accidents among Part 121 air carriers?\n",
    "2. Are there any seasonal or time-related patterns in accidents?\n",
    "3. How has the safety record of Part 121 air carriers evolved over the years?\n",
    "4. Are there any correlations between specific factors (e.g., weather conditions, aircraft types) and accident severity?\n",
    "\n",
    "By exploring and visualizing the data, the aim is to provide a better understanding of aviation accidents and identify trends and patterns that may be useful for improving aviation safety.\n",
    "\n",
    "---\n",
    "\n",
    "**Note**: This notebook is for educational and analytical purposes only. It does not cover any specific incident or accident investigation.\n"
   ]
  },
  {
   "cell_type": "markdown",
   "id": "26c0d3c9",
   "metadata": {},
   "source": [
    "# Imports\n",
    "## Libraries"
   ]
  },
  {
   "cell_type": "code",
   "execution_count": 4,
   "id": "c8625e27",
   "metadata": {},
   "outputs": [
    {
     "name": "stdout",
     "output_type": "stream",
     "text": [
      "Imports executed at 2023-12-29 10:49:16.815928\n"
     ]
    }
   ],
   "source": [
    "# Standard Library Imports\n",
    "import os\n",
    "import sys\n",
    "from datetime import datetime\n",
    "\n",
    "# Third-Party Library Imports\n",
    "import pandas as pd\n",
    "import matplotlib.pyplot as plt\n",
    "import seaborn as sns\n",
    "\n",
    "\n",
    "# Print a timestamp to indicate when the imports were executed\n",
    "print(f\"Imports executed at {datetime.now()}\")"
   ]
  },
  {
   "cell_type": "markdown",
   "id": "fa96756a",
   "metadata": {},
   "source": [
    "## Data"
   ]
  },
  {
   "cell_type": "code",
   "execution_count": 5,
   "id": "cea366ee",
   "metadata": {},
   "outputs": [
    {
     "name": "stdout",
     "output_type": "stream",
     "text": [
      "Data Import Completed at 2023-12-29 10:49:18.453913\n"
     ]
    }
   ],
   "source": [
    "# Load data from JSON\n",
    "df = pd.read_json('https://raw.githubusercontent.com/flyguy221/NTSB-Aviation-Investigation-Analysis/aea43e7658cff1ec3ce3364d9e619191f0bff7a5/data/raw/cases2023-12-29_06-03/cases2023-12-29_06-03.json')\n",
    "\n",
    "#Print a timestamp to indicate when the import was executed\n",
    "print(f\"Data Import Completed at {datetime.now()}\")"
   ]
  },
  {
   "cell_type": "markdown",
   "id": "5fa5d832",
   "metadata": {},
   "source": [
    "# Data Overview"
   ]
  },
  {
   "cell_type": "code",
   "execution_count": 6,
   "id": "b96f0271",
   "metadata": {},
   "outputs": [
    {
     "name": "stdout",
     "output_type": "stream",
     "text": [
      "   cm_mkey airportId airportName  cm_closed cm_completionStatus  \\\n",
      "0   193031      None        None       True           Completed   \n",
      "1   192742      None        None       True           Completed   \n",
      "2   192743      None        None       True           Completed   \n",
      "3   192790      None        None       True                 N/A   \n",
      "4   192633      None        None       True                 N/A   \n",
      "\n",
      "   cm_hasSafetyRec cm_highestInjury  cm_isStudy   cm_mode  cm_ntsbNum  ...  \\\n",
      "0            False          Serious         0.0  Aviation  DCA23LA445  ...   \n",
      "1            False          Serious         0.0  Aviation  DCA23LA382  ...   \n",
      "2            False          Serious         0.0  Aviation  DCA23LA383  ...   \n",
      "3            False             None         0.0  Aviation  DCA23WA394  ...   \n",
      "4            False             None         0.0  Aviation  DCA23WA363  ...   \n",
      "\n",
      "  factualNarrative prelimNarrative cm_fatalInjuryCount cm_minorInjuryCount  \\\n",
      "0             None            None                 0.0                 0.0   \n",
      "1             None            None                 0.0                 0.0   \n",
      "2             None            None                 0.0                 0.0   \n",
      "3              NaN             NaN                 0.0                 0.0   \n",
      "4              NaN             NaN                 NaN                 NaN   \n",
      "\n",
      "  cm_seriousInjuryCount  accidentSiteCondition  cm_docketOriginalPublishDate  \\\n",
      "0                   1.0                    VMC                           NaN   \n",
      "1                   1.0                    IMC          2023-11-15T19:00:00Z   \n",
      "2                   1.0                    IMC          2023-10-16T18:00:00Z   \n",
      "3                   0.0                   None                           NaN   \n",
      "4                   NaN                   None                           NaN   \n",
      "\n",
      "  cm_Step cm_StepNum cm_caseDropped  \n",
      "0     NaN        NaN            NaN  \n",
      "1     NaN        NaN            NaN  \n",
      "2     NaN        NaN            NaN  \n",
      "3     NaN        NaN            NaN  \n",
      "4     NaN        NaN            NaN  \n",
      "\n",
      "[5 rows x 41 columns]\n",
      "<class 'pandas.core.frame.DataFrame'>\n",
      "RangeIndex: 1286 entries, 0 to 1285\n",
      "Data columns (total 41 columns):\n",
      " #   Column                        Non-Null Count  Dtype  \n",
      "---  ------                        --------------  -----  \n",
      " 0   cm_mkey                       1286 non-null   int64  \n",
      " 1   airportId                     991 non-null    object \n",
      " 2   airportName                   992 non-null    object \n",
      " 3   cm_closed                     1286 non-null   bool   \n",
      " 4   cm_completionStatus           1286 non-null   object \n",
      " 5   cm_hasSafetyRec               1286 non-null   bool   \n",
      " 6   cm_highestInjury              1280 non-null   object \n",
      " 7   cm_isStudy                    1284 non-null   float64\n",
      " 8   cm_mode                       1286 non-null   object \n",
      " 9   cm_ntsbNum                    1286 non-null   object \n",
      " 10  cm_originalPublishedDate      1125 non-null   object \n",
      " 11  cm_vehicles                   1286 non-null   object \n",
      " 12  cm_recentReportPublishDate    57 non-null     object \n",
      " 13  cm_mostRecentReportType       1257 non-null   object \n",
      " 14  cm_probableCause              1181 non-null   object \n",
      " 15  cm_Latitude                   982 non-null    float64\n",
      " 16  cm_Longitude                  982 non-null    float64\n",
      " 17  cm_city                       1286 non-null   object \n",
      " 18  cm_country                    1251 non-null   object \n",
      " 19  cm_eventDate                  1286 non-null   object \n",
      " 20  cm_state                      1149 non-null   object \n",
      " 21  cm_agency                     1275 non-null   object \n",
      " 22  cm_boardLaunch                1284 non-null   float64\n",
      " 23  cm_boardMeetingDate           1 non-null      object \n",
      " 24  cm_docketDate                 1 non-null      object \n",
      " 25  cm_eventType                  1286 non-null   object \n",
      " 26  cm_launch                     393 non-null    object \n",
      " 27  cm_reportDate                 1103 non-null   object \n",
      " 28  cm_reportNum                  81 non-null     object \n",
      " 29  cm_reportType                 1285 non-null   object \n",
      " 30  analysisNarrative             1124 non-null   object \n",
      " 31  factualNarrative              1026 non-null   object \n",
      " 32  prelimNarrative               3 non-null      object \n",
      " 33  cm_fatalInjuryCount           1283 non-null   float64\n",
      " 34  cm_minorInjuryCount           1283 non-null   float64\n",
      " 35  cm_seriousInjuryCount         1283 non-null   float64\n",
      " 36  accidentSiteCondition         1205 non-null   object \n",
      " 37  cm_docketOriginalPublishDate  451 non-null    object \n",
      " 38  cm_Step                       2 non-null      object \n",
      " 39  cm_StepNum                    2 non-null      float64\n",
      " 40  cm_caseDropped                2 non-null      float64\n",
      "dtypes: bool(2), float64(9), int64(1), object(29)\n",
      "memory usage: 394.5+ KB\n",
      "None\n",
      "             cm_mkey  cm_isStudy  cm_Latitude  cm_Longitude  cm_boardLaunch  \\\n",
      "count    1286.000000      1284.0   982.000000    982.000000     1284.000000   \n",
      "mean    56313.583204         0.0    37.319663    -90.389997        0.000779   \n",
      "std     31141.934107         0.0     9.580272     36.141528        0.027907   \n",
      "min      2577.000000         0.0   -34.837645   -170.711395        0.000000   \n",
      "25%     32155.250000         0.0    33.640280   -104.859243        0.000000   \n",
      "50%     55247.000000         0.0    38.749755    -87.899372        0.000000   \n",
      "75%     80447.500000         0.0    41.217113    -80.095140        0.000000   \n",
      "max    193031.000000         0.0    70.344169    152.141662        1.000000   \n",
      "\n",
      "       cm_fatalInjuryCount  cm_minorInjuryCount  cm_seriousInjuryCount  \\\n",
      "count          1283.000000          1283.000000            1283.000000   \n",
      "mean              2.773967             2.356196               0.856586   \n",
      "std              19.638195             9.422739               2.797594   \n",
      "min               0.000000             0.000000               0.000000   \n",
      "25%               0.000000             0.000000               0.000000   \n",
      "50%               0.000000             0.000000               1.000000   \n",
      "75%               0.000000             1.000000               1.000000   \n",
      "max             270.000000           171.000000              50.000000   \n",
      "\n",
      "       cm_StepNum  cm_caseDropped  \n",
      "count         2.0             2.0  \n",
      "mean          8.0             0.0  \n",
      "std           0.0             0.0  \n",
      "min           8.0             0.0  \n",
      "25%           8.0             0.0  \n",
      "50%           8.0             0.0  \n",
      "75%           8.0             0.0  \n",
      "max           8.0             0.0  \n",
      "(1286, 41)\n"
     ]
    }
   ],
   "source": [
    "# Display the first few rows of the dataset\n",
    "print(df.head())\n",
    "\n",
    "# Get basic info about the dataset\n",
    "print(df.info())\n",
    "\n",
    "# Generate summary statistics\n",
    "print(df.describe())\n",
    "\n",
    "# Check the dimensions of the DataFrame\n",
    "print(df.shape)"
   ]
  },
  {
   "cell_type": "markdown",
   "id": "4b9ac9ba",
   "metadata": {},
   "source": [
    "**The dataset has 41 columns and 1286 rows, with a mix of data types, including integers, floats, booleans, and objects (strings).**\n"
   ]
  },
  {
   "cell_type": "markdown",
   "id": "e09c2a44",
   "metadata": {},
   "source": [
    "# Data Cleaning:\n",
    "\n",
    "Before diving into the analysis, The following data cleaning steps will be completed:\n",
    "\n",
    "* Handle missing values: Identify and handle columns with missing values.\n",
    "* Data type conversion: Convert columns to appropriate data types.\n",
    "* Remove unnecessary columns: Drop columns that are not relevant to the analysis.\n",
    "* Exploratory Data Analysis (EDA): Begin by exploring the data to better understand its characteristics and to identify potential patterns or relationships. This will entail creating visualizations and summary statistics for different columns."
   ]
  },
  {
   "cell_type": "markdown",
   "id": "8cfbb972",
   "metadata": {},
   "source": [
    "## Handle Missing Values"
   ]
  },
  {
   "cell_type": "code",
   "execution_count": null,
   "id": "7f84014b",
   "metadata": {},
   "outputs": [],
   "source": []
  },
  {
   "cell_type": "markdown",
   "id": "49bb7764",
   "metadata": {},
   "source": [
    "# Questions"
   ]
  },
  {
   "cell_type": "markdown",
   "id": "1722752e",
   "metadata": {},
   "source": [
    "Answering Specific Questions:\n",
    "\n",
    "For the question about the most common causes of accidents, you can analyze the 'cm_probableCause' column.\n",
    "For seasonal or time-related patterns, explore the 'cm_eventDate' column and consider creating time-based visualizations.\n",
    "To understand the evolution of safety records, analyze the 'cm_eventDate' and 'cm_completionStatus' columns over time.\n",
    "For correlations, consider using correlation matrices and visualizations to identify relationships between factors and accident severity.\n",
    "Data Visualization: Visualize your findings using libraries like Matplotlib and Seaborn. This will help you communicate your results effectively.\n",
    "\n",
    "Hypothesis Testing: If your analysis involves hypothesis testing, you can perform statistical tests using libraries such as SciPy.\n",
    "\n",
    "Documentation: Make sure to document your code and analysis steps clearly in your Jupyter Notebook. This will help you and others understand the analysis process.\n",
    "\n",
    "Further Analysis: Depending on your findings, you may need to perform more in-depth analyses, such as time series analysis or regression modeling."
   ]
  }
 ],
 "metadata": {
  "kernelspec": {
   "display_name": "Python 3 (ipykernel)",
   "language": "python",
   "name": "python3"
  },
  "language_info": {
   "codemirror_mode": {
    "name": "ipython",
    "version": 3
   },
   "file_extension": ".py",
   "mimetype": "text/x-python",
   "name": "python",
   "nbconvert_exporter": "python",
   "pygments_lexer": "ipython3",
   "version": "3.11.5"
  },
  "toc": {
   "base_numbering": 1,
   "nav_menu": {},
   "number_sections": true,
   "sideBar": true,
   "skip_h1_title": false,
   "title_cell": "Table of Contents",
   "title_sidebar": "Contents",
   "toc_cell": false,
   "toc_position": {
    "height": "calc(100% - 180px)",
    "left": "10px",
    "top": "150px",
    "width": "343.729px"
   },
   "toc_section_display": true,
   "toc_window_display": true
  }
 },
 "nbformat": 4,
 "nbformat_minor": 5
}
