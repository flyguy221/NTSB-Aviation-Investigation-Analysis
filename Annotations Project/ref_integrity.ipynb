{
 "cells": [
  {
   "cell_type": "code",
   "execution_count": null,
   "id": "306a7806",
   "metadata": {},
   "outputs": [],
   "source": [
    "# Function to perform referential integrity check\n",
    "def check_referential_integrity(primary_table, primary_key, foreign_tables):\n",
    "    if primary_table in loaded_data:\n",
    "        primary_df = loaded_data[primary_table]\n",
    "        for foreign_table, foreign_key in foreign_tables:\n",
    "            if foreign_table in loaded_data:\n",
    "                foreign_df = loaded_data[foreign_table]\n",
    "                if not foreign_df[foreign_key].isin(primary_df[primary_key]).all():\n",
    "                    return f\"Referential integrity check failed between {primary_table}.{primary_key} and {foreign_table}.{foreign_key}\"\n",
    "    return None\n"
   ]
  }
 ],
 "metadata": {
  "kernelspec": {
   "display_name": "Python 3 (ipykernel)",
   "language": "python",
   "name": "python3"
  },
  "language_info": {
   "codemirror_mode": {
    "name": "ipython",
    "version": 3
   },
   "file_extension": ".py",
   "mimetype": "text/x-python",
   "name": "python",
   "nbconvert_exporter": "python",
   "pygments_lexer": "ipython3",
   "version": "3.11.5"
  },
  "toc": {
   "base_numbering": 1,
   "nav_menu": {},
   "number_sections": true,
   "sideBar": true,
   "skip_h1_title": false,
   "title_cell": "Table of Contents",
   "title_sidebar": "Contents",
   "toc_cell": false,
   "toc_position": {},
   "toc_section_display": true,
   "toc_window_display": false
  }
 },
 "nbformat": 4,
 "nbformat_minor": 5
}
